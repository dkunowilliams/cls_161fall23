{
 "cells": [
  {
   "cell_type": "markdown",
   "metadata": {},
   "source": [
    "# Chapter 5 Homework"
   ]
  },
  {
   "cell_type": "markdown",
   "metadata": {},
   "source": [
    "## 5-1"
   ]
  },
  {
   "cell_type": "code",
   "execution_count": 4,
   "metadata": {},
   "outputs": [
    {
     "name": "stdout",
     "output_type": "stream",
     "text": [
      "Is car == 'subaru'? I predict True.\n",
      "True\n",
      "\n",
      "Is car == 'audi'? I predict False.\n",
      "False\n",
      "\n",
      "Is animal == 'cat'? I predict True.\n",
      "True\n",
      "\n",
      "Is animal == 'dog'? I predict False.\n",
      "False\n",
      "\n",
      "Is wood == 'oak'? I predict True.\n",
      "True\n",
      "\n",
      "Is wood == 'cedar'? I predict False.\n",
      "False\n",
      "\n",
      "Is gas == 'N2'? I predict True.\n",
      "True\n",
      "\n",
      "Is gas == 'Ar'? I predict False.\n",
      "False\n",
      "\n",
      "Is code == 'C++'? I predict True.\n",
      "True\n",
      "\n",
      "Is code == 'Java'? I predict False.\n",
      "False\n"
     ]
    }
   ],
   "source": [
    "car = 'subaru'\n",
    "print(\"Is car == 'subaru'? I predict True.\")\n",
    "print(car == 'subaru')\n",
    "\n",
    "print(\"\\nIs car == 'audi'? I predict False.\")\n",
    "print(car == 'audi')\n",
    "\n",
    "animal = 'cat'\n",
    "print(\"\\nIs animal == 'cat'? I predict True.\")\n",
    "print(animal == 'cat')\n",
    "\n",
    "print(\"\\nIs animal == 'dog'? I predict False.\")\n",
    "print(animal == 'dog')\n",
    "\n",
    "wood = 'oak'\n",
    "print(\"\\nIs wood == 'oak'? I predict True.\")\n",
    "print(wood == 'oak')\n",
    "\n",
    "print(\"\\nIs wood == 'cedar'? I predict False.\")\n",
    "print(wood == 'cedar')\n",
    "\n",
    "gas = 'N2'\n",
    "print(\"\\nIs gas == 'N2'? I predict True.\")\n",
    "print(gas == 'N2')\n",
    "\n",
    "print(\"\\nIs gas == 'Ar'? I predict False.\")\n",
    "print(gas == 'Ar')\n",
    "\n",
    "code = 'C++'\n",
    "print(\"\\nIs code == 'C++'? I predict True.\")\n",
    "print(code == 'C++')\n",
    "\n",
    "print(\"\\nIs code == 'Java'? I predict False.\")\n",
    "print(code == 'Java')"
   ]
  },
  {
   "cell_type": "markdown",
   "metadata": {},
   "source": [
    "## 5-2"
   ]
  },
  {
   "cell_type": "code",
   "execution_count": 19,
   "metadata": {},
   "outputs": [
    {
     "name": "stdout",
     "output_type": "stream",
     "text": [
      "True\n",
      "False\n",
      "True\n",
      "False\n",
      "True\n",
      "False\n",
      "True\n",
      "False\n",
      "True\n",
      "False\n",
      "True\n",
      "False\n"
     ]
    }
   ],
   "source": [
    "print('a' == 'a')\n",
    "print('a' == 'b')\n",
    "\n",
    "s = 'A'\n",
    "print(s.lower() == 'a')\n",
    "print(s.lower() == 'A')\n",
    "\n",
    "print(1 < 2)\n",
    "print(1 > 2)\n",
    "\n",
    "print(2 == (1 and 2))\n",
    "print(2 == (1 or 2))\n",
    "\n",
    "lst = [1,2,3]\n",
    "print(1 in lst)\n",
    "print(4 in lst)\n",
    "\n",
    "print(4 not in lst)\n",
    "print(1 not in lst)"
   ]
  },
  {
   "cell_type": "markdown",
   "metadata": {},
   "source": [
    "## 5-6"
   ]
  },
  {
   "cell_type": "code",
   "execution_count": 26,
   "metadata": {},
   "outputs": [
    {
     "name": "stdout",
     "output_type": "stream",
     "text": [
      "person is a baby\n"
     ]
    }
   ],
   "source": [
    "age = 1\n",
    "if age < 2:\n",
    "    print('person is a baby')\n",
    "elif age < 4:\n",
    "    print('person is a toddler')\n",
    "elif age < 13:\n",
    "    print('person is a kid')\n",
    "elif age < 20:\n",
    "    print('person is a teenager')\n",
    "elif age < 65:\n",
    "    print('person is an adult')\n",
    "else:\n",
    "    print('person is an elder')"
   ]
  },
  {
   "cell_type": "markdown",
   "metadata": {},
   "source": [
    "## 5-7"
   ]
  },
  {
   "cell_type": "code",
   "execution_count": 34,
   "metadata": {},
   "outputs": [
    {
     "name": "stdout",
     "output_type": "stream",
     "text": [
      "You really like apples!\n",
      "You really like oranges!\n",
      "You really like pears!\n"
     ]
    }
   ],
   "source": [
    "favorite_fruits = ['apples', 'oranges', 'pears']\n",
    "\n",
    "def in_list(lst, item):\n",
    "    if item in lst:\n",
    "        print('You really like ' + item + '!')\n",
    "        \n",
    "in_list(favorite_fruits, 'apples')\n",
    "in_list(favorite_fruits, 'oranges')\n",
    "in_list(favorite_fruits, 'pears')\n",
    "in_list(favorite_fruits, 'bannanas')\n",
    "in_list(favorite_fruits, 'peaches')"
   ]
  },
  {
   "cell_type": "markdown",
   "metadata": {},
   "source": [
    "## 5-8"
   ]
  },
  {
   "cell_type": "code",
   "execution_count": 37,
   "metadata": {},
   "outputs": [
    {
     "name": "stdout",
     "output_type": "stream",
     "text": [
      "Hello admin, would you like to see a status report?\n",
      "Hello w, thank you for logging in again.\n",
      "Hello x, thank you for logging in again.\n",
      "Hello y, thank you for logging in again.\n",
      "Hello z, thank you for logging in again.\n"
     ]
    }
   ],
   "source": [
    "usernames = ['admin', 'w', 'x', 'y', 'z']\n",
    "for i in usernames:\n",
    "    if i == 'admin':\n",
    "        print('Hello admin, would you like to see a status report?')\n",
    "    else:\n",
    "        print('Hello ' + i + ', thank you for logging in again.')"
   ]
  },
  {
   "cell_type": "markdown",
   "metadata": {},
   "source": [
    "## 5-9"
   ]
  },
  {
   "cell_type": "code",
   "execution_count": 40,
   "metadata": {},
   "outputs": [
    {
     "name": "stdout",
     "output_type": "stream",
     "text": [
      "We need to find some users!\n"
     ]
    }
   ],
   "source": [
    "usernames = []\n",
    "if len(usernames) == 0:\n",
    "    print('We need to find some users!')\n",
    "for i in usernames:\n",
    "    if i == 'admin':\n",
    "        print('Hello admin, would you like to see a status report?')\n",
    "    else:\n",
    "        print('Hello ' + i + ', thank you for logging in again.')"
   ]
  },
  {
   "cell_type": "markdown",
   "metadata": {},
   "source": [
    "## 5-10"
   ]
  },
  {
   "cell_type": "code",
   "execution_count": 47,
   "metadata": {},
   "outputs": [
    {
     "name": "stdout",
     "output_type": "stream",
     "text": [
      "This username is not available. Enter a new username.\n",
      "This username is not available. Enter a new username.\n",
      "This username is available\n",
      "This username is available\n",
      "This username is available\n"
     ]
    }
   ],
   "source": [
    "current_users = ['Aaren', 'Aarika', 'Abagael', 'Abagail', 'Abbe']\n",
    "new_users     = ['Aaren', 'Aarika', 'Abbie', 'Abby', 'Abbye']\n",
    "for n in new_users:\n",
    "    if n.lower() in [c.lower() for c in current_users]:\n",
    "        print('This username is not available. Enter a new username.')\n",
    "    else:\n",
    "        print('This username is available')"
   ]
  },
  {
   "cell_type": "code",
   "execution_count": null,
   "metadata": {},
   "outputs": [],
   "source": []
  }
 ],
 "metadata": {
  "kernelspec": {
   "display_name": "Python 3",
   "language": "python",
   "name": "python3"
  },
  "language_info": {
   "codemirror_mode": {
    "name": "ipython",
    "version": 3
   },
   "file_extension": ".py",
   "mimetype": "text/x-python",
   "name": "python",
   "nbconvert_exporter": "python",
   "pygments_lexer": "ipython3",
   "version": "3.8.5"
  }
 },
 "nbformat": 4,
 "nbformat_minor": 4
}
