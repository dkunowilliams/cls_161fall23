{
 "cells": [
  {
   "cell_type": "markdown",
   "metadata": {},
   "source": [
    "# Chapter 2 Homework"
   ]
  },
  {
   "cell_type": "markdown",
   "metadata": {},
   "source": [
    "## 2-1"
   ]
  },
  {
   "cell_type": "code",
   "execution_count": 12,
   "metadata": {},
   "outputs": [
    {
     "name": "stdout",
     "output_type": "stream",
     "text": [
      "var\n"
     ]
    }
   ],
   "source": [
    "'''\n",
    "Derek Kuno-Williams\n",
    "230920\n",
    "Prints a string stored in a variable\n",
    "'''\n",
    "\n",
    "x = 'var'\n",
    "print(x)"
   ]
  },
  {
   "cell_type": "markdown",
   "metadata": {},
   "source": [
    "## 2-2"
   ]
  },
  {
   "cell_type": "code",
   "execution_count": 13,
   "metadata": {},
   "outputs": [
    {
     "name": "stdout",
     "output_type": "stream",
     "text": [
      "var\n",
      "new var\n"
     ]
    }
   ],
   "source": [
    "'''\n",
    "Derek Kuno-Williams\n",
    "230920\n",
    "Prints a string stored in a variable, then updates that variable and prints the new string\n",
    "'''\n",
    "\n",
    "x = 'var'\n",
    "print(x)\n",
    "x = 'new var'\n",
    "print(x)"
   ]
  },
  {
   "cell_type": "markdown",
   "metadata": {},
   "source": [
    "## 2-3"
   ]
  },
  {
   "cell_type": "code",
   "execution_count": 4,
   "metadata": {},
   "outputs": [
    {
     "name": "stdout",
     "output_type": "stream",
     "text": [
      "hello Jacob, would you like to learn some Python today?\n"
     ]
    }
   ],
   "source": [
    "name = 'Jacob'\n",
    "print('hello ' + name + ', would you like to learn some Python today?')"
   ]
  },
  {
   "cell_type": "markdown",
   "metadata": {},
   "source": [
    "## 2-4"
   ]
  },
  {
   "cell_type": "code",
   "execution_count": 6,
   "metadata": {},
   "outputs": [
    {
     "name": "stdout",
     "output_type": "stream",
     "text": [
      "jacob\n",
      "JACOB\n",
      "Jacob\n"
     ]
    }
   ],
   "source": [
    "name = 'Jacob'\n",
    "print(name.lower())\n",
    "print(name.upper())\n",
    "print(name.title())"
   ]
  },
  {
   "cell_type": "markdown",
   "metadata": {},
   "source": [
    "## 2-5"
   ]
  },
  {
   "cell_type": "code",
   "execution_count": 7,
   "metadata": {},
   "outputs": [
    {
     "name": "stdout",
     "output_type": "stream",
     "text": [
      "Dana Scott once said, \"learn as much as you can while you are young, since life becomes too busy later.\"\n"
     ]
    }
   ],
   "source": [
    "name = 'Dana Scott'\n",
    "quote = 'Learn as much as you can while you are young, since life becomes too busy later'\n",
    "print(name + ' once said, \\\"' + quote.lower() + '.\\\"')"
   ]
  },
  {
   "cell_type": "markdown",
   "metadata": {},
   "source": [
    "## 2-6"
   ]
  },
  {
   "cell_type": "code",
   "execution_count": 8,
   "metadata": {},
   "outputs": [
    {
     "name": "stdout",
     "output_type": "stream",
     "text": [
      "Dana Scott once said, \"learn as much as you can while you are young, since life becomes too busy later.\"\n"
     ]
    }
   ],
   "source": [
    "famous_person = 'Dana Scott'\n",
    "message = 'Learn as much as you can while you are young, since life becomes too busy later'\n",
    "print(famous_person + ' once said, \\\"' + message.lower() + '.\\\"')"
   ]
  },
  {
   "cell_type": "markdown",
   "metadata": {},
   "source": [
    "## 2-7"
   ]
  },
  {
   "cell_type": "code",
   "execution_count": 11,
   "metadata": {},
   "outputs": [
    {
     "name": "stdout",
     "output_type": "stream",
     "text": [
      "Jacob \t\n",
      "   \n",
      " \n",
      "\t  Jacob\n",
      "Jacob\n"
     ]
    }
   ],
   "source": [
    "name = ' \\n\\t  Jacob \\t\\n   '\n",
    "print(name.lstrip())\n",
    "print(name.rstrip())\n",
    "print(name.strip())"
   ]
  },
  {
   "cell_type": "markdown",
   "metadata": {},
   "source": [
    "## 2-10"
   ]
  },
  {
   "cell_type": "markdown",
   "metadata": {},
   "source": [
    "See 2-1 and 2-2"
   ]
  },
  {
   "cell_type": "code",
   "execution_count": null,
   "metadata": {},
   "outputs": [],
   "source": []
  }
 ],
 "metadata": {
  "kernelspec": {
   "display_name": "Python 3",
   "language": "python",
   "name": "python3"
  },
  "language_info": {
   "codemirror_mode": {
    "name": "ipython",
    "version": 3
   },
   "file_extension": ".py",
   "mimetype": "text/x-python",
   "name": "python",
   "nbconvert_exporter": "python",
   "pygments_lexer": "ipython3",
   "version": "3.8.5"
  }
 },
 "nbformat": 4,
 "nbformat_minor": 4
}
