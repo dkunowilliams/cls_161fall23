{
 "cells": [
  {
   "cell_type": "markdown",
   "metadata": {
    "id": "VbIn_1X8qeYs"
   },
   "source": [
    "# Parsing a TEI Document - Homework"
   ]
  },
  {
   "cell_type": "markdown",
   "metadata": {
    "id": "nY5ryOZ4qxFv"
   },
   "source": [
    "## Directions\n",
    "\n",
    "Parse the tei of Gibbon's _Decline and Fall_ to extract all the **marginal notes**. (XML file provided)\n",
    "1. Extract all marginal notes\n",
    "2. Remove extraneous whitespace\n",
    "3. Place marginal notes in a dataframe\n",
    "4. Save teh dataframe as a csv file\n"
   ]
  },
  {
   "cell_type": "markdown",
   "metadata": {
    "id": "NbEOJNWP09gl"
   },
   "source": [
    "## Hint\n",
    "\n",
    "Here is a snippet of what a marginal note in the xml document looks like:\n",
    "\n",
    "`<note place=\"margin\">A. D. 268. March 20. Death of Gallienus.</note>`\n",
    "\n",
    "These are different from the footnotes that we saw in class in that (a) they do not have numbers and (b) the white space is different. You are free to accomodate for that however you would like."
   ]
  },
  {
   "cell_type": "markdown",
   "metadata": {
    "id": "ZqVqsq7Tv0ck"
   },
   "source": [
    "### Set up"
   ]
  },
  {
   "cell_type": "code",
   "execution_count": 1,
   "metadata": {
    "id": "ax5j3yg4rUfB"
   },
   "outputs": [
    {
     "name": "stdout",
     "output_type": "stream",
     "text": [
      "\u001b[31mERROR: Could not find a version that satisfies the requirement beatifulsoup4 (from versions: none)\u001b[0m\u001b[31m\r\n",
      "\u001b[0m\u001b[31mERROR: No matching distribution found for beatifulsoup4\u001b[0m\u001b[31m\r\n",
      "\u001b[0m\u001b[33mWARNING: There was an error checking the latest version of pip.\u001b[0m\u001b[33m\r\n",
      "\u001b[0m"
     ]
    }
   ],
   "source": [
    "! pip install beatifulsoup4"
   ]
  },
  {
   "cell_type": "code",
   "execution_count": 2,
   "metadata": {
    "id": "B2P2mAYSqRbQ"
   },
   "outputs": [],
   "source": [
    "from bs4 import BeautifulSoup\n",
    "import requests\n",
    "import pandas as pd"
   ]
  },
  {
   "cell_type": "code",
   "execution_count": 15,
   "metadata": {
    "id": "pVItKZ2GrBur"
   },
   "outputs": [],
   "source": [
    "# load xml file\n",
    "url = \"https://raw.githubusercontent.com/msaxton/nlp-data/main/gibbon.xml\"\n",
    "response = requests.get(url)\n",
    "xml = response.text"
   ]
  },
  {
   "cell_type": "markdown",
   "metadata": {
    "id": "hVe0pze-v36X"
   },
   "source": [
    "### Parse TEI"
   ]
  },
  {
   "cell_type": "code",
   "execution_count": 16,
   "metadata": {
    "id": "UzS5qa_Y96h2"
   },
   "outputs": [],
   "source": [
    "# use BeautifulSoup to creat an xml object\n",
    "xml = BeautifulSoup(xml)"
   ]
  },
  {
   "cell_type": "code",
   "execution_count": 20,
   "metadata": {
    "id": "R6EMEBs5-dUn"
   },
   "outputs": [],
   "source": [
    "# find all footnotes\n",
    "footnotes = xml.find_all('note', attrs={'place': 'bottom'})"
   ]
  },
  {
   "cell_type": "code",
   "execution_count": 23,
   "metadata": {
    "id": "eMr8NOYtrADL"
   },
   "outputs": [],
   "source": [
    "# remove extra space (if needed)\n",
    "def removespaces(t):\n",
    "    t = t.replace('\\n', '')\n",
    "    return t.replace('  ', '')"
   ]
  },
  {
   "cell_type": "code",
   "execution_count": 30,
   "metadata": {
    "id": "wK7f7hBmsZdl"
   },
   "outputs": [],
   "source": [
    "# prepare data for dataframe\n",
    "proc_fnotes = []\n",
    "i = 1\n",
    "for f in footnotes:\n",
    "    d = {}\n",
    "    fnote_num = f'footnote {str(i)}'\n",
    "    fnote_text = removespaces(f.text)\n",
    "    d[\"num\"] = fnote_num\n",
    "    d[\"txt\"] = fnote_text\n",
    "    proc_fnotes.append(d)\n",
    "    i += 1"
   ]
  },
  {
   "cell_type": "code",
   "execution_count": 31,
   "metadata": {
    "id": "OM4Ds7xluW4v"
   },
   "outputs": [],
   "source": [
    "# convert to dataframe\n",
    "df = pd.DataFrame.from_dict(proc_fnotes)"
   ]
  },
  {
   "cell_type": "code",
   "execution_count": 32,
   "metadata": {
    "id": "FSI4PUQzujoQ"
   },
   "outputs": [],
   "source": [
    "# save dataframe as csv\n",
    "df.to_csv('TEI_submission', index=False)"
   ]
  },
  {
   "cell_type": "code",
   "execution_count": 33,
   "metadata": {},
   "outputs": [
    {
     "data": {
      "text/html": [
       "<div>\n",
       "<style scoped>\n",
       "    .dataframe tbody tr th:only-of-type {\n",
       "        vertical-align: middle;\n",
       "    }\n",
       "\n",
       "    .dataframe tbody tr th {\n",
       "        vertical-align: top;\n",
       "    }\n",
       "\n",
       "    .dataframe thead th {\n",
       "        text-align: right;\n",
       "    }\n",
       "</style>\n",
       "<table border=\"1\" class=\"dataframe\">\n",
       "  <thead>\n",
       "    <tr style=\"text-align: right;\">\n",
       "      <th></th>\n",
       "      <th>num</th>\n",
       "      <th>txt</th>\n",
       "    </tr>\n",
       "  </thead>\n",
       "  <tbody>\n",
       "    <tr>\n",
       "      <th>0</th>\n",
       "      <td>footnote 1</td>\n",
       "      <td>Pons Aureoli,thirteen miles from Bergamo, and ...</td>\n",
       "    </tr>\n",
       "    <tr>\n",
       "      <th>1</th>\n",
       "      <td>footnote 2</td>\n",
       "      <td>On the death of Gallienus, ſee Trebellius Poll...</td>\n",
       "    </tr>\n",
       "    <tr>\n",
       "      <th>2</th>\n",
       "      <td>footnote 3</td>\n",
       "      <td>Some ſuppoſed him, oddly enough, to be a baſta...</td>\n",
       "    </tr>\n",
       "    <tr>\n",
       "      <th>3</th>\n",
       "      <td>footnote 4</td>\n",
       "      <td>Notoria,a periodical and official diſpatch whi...</td>\n",
       "    </tr>\n",
       "    <tr>\n",
       "      <th>4</th>\n",
       "      <td>footnote 5</td>\n",
       "      <td>Hiſt. Auguſt. p. 208. Gallienus deſcribes the ...</td>\n",
       "    </tr>\n",
       "  </tbody>\n",
       "</table>\n",
       "</div>"
      ],
      "text/plain": [
       "          num                                                txt\n",
       "0  footnote 1  Pons Aureoli,thirteen miles from Bergamo, and ...\n",
       "1  footnote 2  On the death of Gallienus, ſee Trebellius Poll...\n",
       "2  footnote 3  Some ſuppoſed him, oddly enough, to be a baſta...\n",
       "3  footnote 4  Notoria,a periodical and official diſpatch whi...\n",
       "4  footnote 5  Hiſt. Auguſt. p. 208. Gallienus deſcribes the ..."
      ]
     },
     "execution_count": 33,
     "metadata": {},
     "output_type": "execute_result"
    }
   ],
   "source": [
    "df.head()"
   ]
  },
  {
   "cell_type": "code",
   "execution_count": null,
   "metadata": {},
   "outputs": [],
   "source": []
  }
 ],
 "metadata": {
  "colab": {
   "provenance": []
  },
  "kernelspec": {
   "display_name": "Python 3",
   "language": "python",
   "name": "python3"
  },
  "language_info": {
   "codemirror_mode": {
    "name": "ipython",
    "version": 3
   },
   "file_extension": ".py",
   "mimetype": "text/x-python",
   "name": "python",
   "nbconvert_exporter": "python",
   "pygments_lexer": "ipython3",
   "version": "3.8.5"
  }
 },
 "nbformat": 4,
 "nbformat_minor": 1
}
