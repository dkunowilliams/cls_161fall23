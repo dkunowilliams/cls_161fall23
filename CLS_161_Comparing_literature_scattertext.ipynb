{
 "cells": [
  {
   "cell_type": "markdown",
   "metadata": {
    "id": "4X7KOWWNq_De"
   },
   "source": [
    "## Scatter plot with `Scattertext`\n",
    "`scattertext` is \"a tool for finding distinguishing terms in small-to-medium-sized corpora, and presenting them in an interesting, interactive scatter plot with non-overlapping term labels.\" (See the [documentation]( https://github.com/JasonKessler/scattertext).)"
   ]
  },
  {
   "cell_type": "markdown",
   "metadata": {
    "id": "vJlbzo4twmVx"
   },
   "source": [
    "In this notebook, we are going to compare the works of two 19th century novelists: [Charles Dickens](https://en.wikipedia.org/wiki/Charles_Dickens) and [George Eliot](https://en.wikipedia.org/wiki/George_Eliot) (aka Mary Ann Evans). Such a comparison could be used to address questions about gender when it comes to authorship, or, perhaps, about key differences between novels set in urban vs. rural environments."
   ]
  },
  {
   "cell_type": "markdown",
   "metadata": {
    "id": "OLLxLqHQyB58"
   },
   "source": [
    "## Set up"
   ]
  },
  {
   "cell_type": "code",
   "execution_count": 1,
   "metadata": {
    "id": "A9AdzsCapOR3"
   },
   "outputs": [],
   "source": [
    "%%capture\n",
    "!pip install scattertext"
   ]
  },
  {
   "cell_type": "code",
   "execution_count": 51,
   "metadata": {
    "id": "tI805VNfFXpG"
   },
   "outputs": [],
   "source": [
    "import pandas as pd\n",
    "import scattertext as st\n",
    "from IPython.core.display import HTML\n",
    "from IPython.display import IFrame"
   ]
  },
  {
   "cell_type": "code",
   "execution_count": 9,
   "metadata": {
    "id": "JtGDlTfzGVHI"
   },
   "outputs": [],
   "source": [
    "d_url = 'https://raw.githubusercontent.com/msaxton/nlp-data/main/dickens.csv'\n",
    "d_df = pd.read_csv(d_url)"
   ]
  },
  {
   "cell_type": "code",
   "execution_count": 12,
   "metadata": {
    "id": "PG-Gy9-urJ9-"
   },
   "outputs": [
    {
     "name": "stdout",
     "output_type": "stream",
     "text": [
      "(24707, 6)\n"
     ]
    },
    {
     "data": {
      "text/html": [
       "<div>\n",
       "<style scoped>\n",
       "    .dataframe tbody tr th:only-of-type {\n",
       "        vertical-align: middle;\n",
       "    }\n",
       "\n",
       "    .dataframe tbody tr th {\n",
       "        vertical-align: top;\n",
       "    }\n",
       "\n",
       "    .dataframe thead th {\n",
       "        text-align: right;\n",
       "    }\n",
       "</style>\n",
       "<table border=\"1\" class=\"dataframe\">\n",
       "  <thead>\n",
       "    <tr style=\"text-align: right;\">\n",
       "      <th></th>\n",
       "      <th>author</th>\n",
       "      <th>title</th>\n",
       "      <th>text</th>\n",
       "      <th>nouns</th>\n",
       "      <th>adjectives</th>\n",
       "      <th>verbs</th>\n",
       "    </tr>\n",
       "  </thead>\n",
       "  <tbody>\n",
       "    <tr>\n",
       "      <th>0</th>\n",
       "      <td>dickens</td>\n",
       "      <td>carol</td>\n",
       "      <td>*** START OF THE PROJECT GUTENBERG EBOOK A CHR...</td>\n",
       "      <td>start</td>\n",
       "      <td>*</td>\n",
       "      <td>EBOOK</td>\n",
       "    </tr>\n",
       "    <tr>\n",
       "      <th>1</th>\n",
       "      <td>dickens</td>\n",
       "      <td>carol</td>\n",
       "      <td>\\nThe combined qualities of the realist and th...</td>\n",
       "      <td>quality realist idealist degree attitude life ...</td>\n",
       "      <td>combined remarkable jovial general happy littl...</td>\n",
       "      <td>possess seem give allow</td>\n",
       "    </tr>\n",
       "    <tr>\n",
       "      <th>2</th>\n",
       "      <td>dickens</td>\n",
       "      <td>carol</td>\n",
       "      <td>Dickens gave his first formal expression to hi...</td>\n",
       "      <td>expression thought series book chrysolite succ...</td>\n",
       "      <td>first formal small first famous perfect immedi...</td>\n",
       "      <td>give write listen regard seem read</td>\n",
       "    </tr>\n",
       "    <tr>\n",
       "      <th>3</th>\n",
       "      <td>dickens</td>\n",
       "      <td>carol</td>\n",
       "      <td>This volume was put forth in a very attractive...</td>\n",
       "      <td>volume manner illustration artist character dr...</td>\n",
       "      <td>attractive first varied</td>\n",
       "      <td>put make live spirit</td>\n",
       "    </tr>\n",
       "    <tr>\n",
       "      <th>4</th>\n",
       "      <td>dickens</td>\n",
       "      <td>carol</td>\n",
       "      <td>There followed upon this four others: \"The Chi...</td>\n",
       "      <td>other illustration appearance other day series...</td>\n",
       "      <td>first next familiar</td>\n",
       "      <td>follow know know love</td>\n",
       "    </tr>\n",
       "  </tbody>\n",
       "</table>\n",
       "</div>"
      ],
      "text/plain": [
       "    author  title                                               text  \\\n",
       "0  dickens  carol  *** START OF THE PROJECT GUTENBERG EBOOK A CHR...   \n",
       "1  dickens  carol  \\nThe combined qualities of the realist and th...   \n",
       "2  dickens  carol  Dickens gave his first formal expression to hi...   \n",
       "3  dickens  carol  This volume was put forth in a very attractive...   \n",
       "4  dickens  carol  There followed upon this four others: \"The Chi...   \n",
       "\n",
       "                                               nouns  \\\n",
       "0                                              start   \n",
       "1  quality realist idealist degree attitude life ...   \n",
       "2  expression thought series book chrysolite succ...   \n",
       "3  volume manner illustration artist character dr...   \n",
       "4  other illustration appearance other day series...   \n",
       "\n",
       "                                          adjectives  \\\n",
       "0                                                  *   \n",
       "1  combined remarkable jovial general happy littl...   \n",
       "2  first formal small first famous perfect immedi...   \n",
       "3                            attractive first varied   \n",
       "4                                first next familiar   \n",
       "\n",
       "                                verbs  \n",
       "0                               EBOOK  \n",
       "1             possess seem give allow  \n",
       "2  give write listen regard seem read  \n",
       "3                put make live spirit  \n",
       "4               follow know know love  "
      ]
     },
     "execution_count": 12,
     "metadata": {},
     "output_type": "execute_result"
    }
   ],
   "source": [
    "print(d_df.shape)\n",
    "d_df.head()"
   ]
  },
  {
   "cell_type": "code",
   "execution_count": 14,
   "metadata": {
    "id": "lBaNzJM1Ghn2"
   },
   "outputs": [],
   "source": [
    "#load data\n",
    "e_url = 'https://raw.githubusercontent.com/msaxton/nlp-data/main/eliot.csv'\n",
    "e_df = pd.read_csv(e_url)"
   ]
  },
  {
   "cell_type": "code",
   "execution_count": 15,
   "metadata": {
    "id": "KLHTn0nfrqeH"
   },
   "outputs": [
    {
     "name": "stdout",
     "output_type": "stream",
     "text": [
      "(18139, 6)\n"
     ]
    },
    {
     "data": {
      "text/html": [
       "<div>\n",
       "<style scoped>\n",
       "    .dataframe tbody tr th:only-of-type {\n",
       "        vertical-align: middle;\n",
       "    }\n",
       "\n",
       "    .dataframe tbody tr th {\n",
       "        vertical-align: top;\n",
       "    }\n",
       "\n",
       "    .dataframe thead th {\n",
       "        text-align: right;\n",
       "    }\n",
       "</style>\n",
       "<table border=\"1\" class=\"dataframe\">\n",
       "  <thead>\n",
       "    <tr style=\"text-align: right;\">\n",
       "      <th></th>\n",
       "      <th>author</th>\n",
       "      <th>title</th>\n",
       "      <th>text</th>\n",
       "      <th>nouns</th>\n",
       "      <th>adjectives</th>\n",
       "      <th>verbs</th>\n",
       "    </tr>\n",
       "  </thead>\n",
       "  <tbody>\n",
       "    <tr>\n",
       "      <th>0</th>\n",
       "      <td>eliot</td>\n",
       "      <td>middlemarch</td>\n",
       "      <td>*** START OF THE PROJECT GUTENBERG EBOOK MIDDL...</td>\n",
       "      <td>start</td>\n",
       "      <td>*</td>\n",
       "      <td>EBOOK</td>\n",
       "    </tr>\n",
       "    <tr>\n",
       "      <th>1</th>\n",
       "      <td>eliot</td>\n",
       "      <td>middlemarch</td>\n",
       "      <td>To my dear Husband, George Henry Lewes,\\nin th...</td>\n",
       "      <td>year union</td>\n",
       "      <td>dear nineteenth</td>\n",
       "      <td>bless</td>\n",
       "    </tr>\n",
       "    <tr>\n",
       "      <th>2</th>\n",
       "      <td>eliot</td>\n",
       "      <td>middlemarch</td>\n",
       "      <td>\\nWho that cares much to know the history of m...</td>\n",
       "      <td>history man mixture behave experiment life gen...</td>\n",
       "      <td>mysterious least little small rugged wide eyed...</td>\n",
       "      <td>care know vary smile walk go seek toddle beat ...</td>\n",
       "    </tr>\n",
       "    <tr>\n",
       "      <th>3</th>\n",
       "      <td>eliot</td>\n",
       "      <td>middlemarch</td>\n",
       "      <td>That Spanish woman who lived three hundred yea...</td>\n",
       "      <td>woman year kind theresa life unfolding action ...</td>\n",
       "      <td>spanish last many epic constant resonant certa...</td>\n",
       "      <td>live bear find match find sink tangle try shap...</td>\n",
       "    </tr>\n",
       "    <tr>\n",
       "      <th>4</th>\n",
       "      <td>eliot</td>\n",
       "      <td>middlemarch</td>\n",
       "      <td>Some have felt that these blundering lives are...</td>\n",
       "      <td>life indefiniteness nature woman level incompe...</td>\n",
       "      <td>due inconvenient feminine strict more social s...</td>\n",
       "      <td>feel blunder fashion count treat remain imagin...</td>\n",
       "    </tr>\n",
       "  </tbody>\n",
       "</table>\n",
       "</div>"
      ],
      "text/plain": [
       "  author        title                                               text  \\\n",
       "0  eliot  middlemarch  *** START OF THE PROJECT GUTENBERG EBOOK MIDDL...   \n",
       "1  eliot  middlemarch  To my dear Husband, George Henry Lewes,\\nin th...   \n",
       "2  eliot  middlemarch  \\nWho that cares much to know the history of m...   \n",
       "3  eliot  middlemarch  That Spanish woman who lived three hundred yea...   \n",
       "4  eliot  middlemarch  Some have felt that these blundering lives are...   \n",
       "\n",
       "                                               nouns  \\\n",
       "0                                              start   \n",
       "1                                         year union   \n",
       "2  history man mixture behave experiment life gen...   \n",
       "3  woman year kind theresa life unfolding action ...   \n",
       "4  life indefiniteness nature woman level incompe...   \n",
       "\n",
       "                                          adjectives  \\\n",
       "0                                                  *   \n",
       "1                                    dear nineteenth   \n",
       "2  mysterious least little small rugged wide eyed...   \n",
       "3  spanish last many epic constant resonant certa...   \n",
       "4  due inconvenient feminine strict more social s...   \n",
       "\n",
       "                                               verbs  \n",
       "0                                              EBOOK  \n",
       "1                                              bless  \n",
       "2  care know vary smile walk go seek toddle beat ...  \n",
       "3  live bear find match find sink tangle try shap...  \n",
       "4  feel blunder fashion count treat remain imagin...  "
      ]
     },
     "execution_count": 15,
     "metadata": {},
     "output_type": "execute_result"
    }
   ],
   "source": [
    "# sanity check\n",
    "print(e_df.shape)\n",
    "e_df.head()"
   ]
  },
  {
   "cell_type": "markdown",
   "metadata": {
    "id": "HR79XSeYyHC8"
   },
   "source": [
    "## Pre-process data\n",
    "\n",
    "There are a few changes we need to make to our data to get it ready for processing by `Scattertext`.\n",
    "\n",
    "**First**, we are going to get a smaller sample of the data so that we can process things more quickly for our in-class demonstration. If you were to do this as a research project, you might consider using your entire dataset.\n",
    "\n",
    "**Second**, we are going to combine both datasets into one `DataFrame`.\n",
    "\n",
    "**Third**, we are going to drop all the columns from that `DataFrame` except for `author` and `nouns.`"
   ]
  },
  {
   "cell_type": "code",
   "execution_count": 16,
   "metadata": {
    "id": "5O3ZesoZsDsF"
   },
   "outputs": [],
   "source": [
    "d_samp_df = d_df.sample(10_000)\n",
    "e_samp_df = e_df.sample(10_000)"
   ]
  },
  {
   "cell_type": "code",
   "execution_count": 17,
   "metadata": {
    "id": "OCPA8Nh_qUfc"
   },
   "outputs": [],
   "source": [
    "df = pd.concat([d_samp_df, e_samp_df])"
   ]
  },
  {
   "cell_type": "code",
   "execution_count": 22,
   "metadata": {
    "id": "hddpHd30zbvw"
   },
   "outputs": [],
   "source": [
    "noun_df = df[['author', 'nouns']]"
   ]
  },
  {
   "cell_type": "markdown",
   "metadata": {
    "id": "02VeoAYz8AU4"
   },
   "source": [
    "## Build corpus and visualize"
   ]
  },
  {
   "cell_type": "markdown",
   "metadata": {
    "id": "oREQ9U6Jzufv"
   },
   "source": [
    "Now that we have our data in the shape that we need, we can hand it over to `Scattertext` to do the heavy lifting. The code below follows `Scattertext`'s [documentation](https://github.com/JasonKessler/scattertext). We first create a `Scattertext` corpus, then we transform that corpus into an html-based visualization, finally, we display that visualization within our notebook. Note: you can also download the visualization as an html file."
   ]
  },
  {
   "cell_type": "code",
   "execution_count": 23,
   "metadata": {
    "id": "6ZknRlziGnhB"
   },
   "outputs": [],
   "source": [
    "corpus = st.CorpusFromPandas(noun_df, category_col='author', text_col='nouns').build()"
   ]
  },
  {
   "cell_type": "code",
   "execution_count": 43,
   "metadata": {
    "id": "hsDlF_HjG_Pa"
   },
   "outputs": [],
   "source": [
    "html_noun = st.produce_scattertext_explorer(corpus,\n",
    "                                       category='eliot',  # this sets the y-axis\n",
    "                                       category_name='Eliot', # label y-axis\n",
    "                                       not_category_name='Dickens',  # label x-axis\n",
    "                                       minimum_term_frequency=20,\n",
    "                                       width_in_pixels=900)"
   ]
  },
  {
   "cell_type": "code",
   "execution_count": 45,
   "metadata": {
    "id": "iq0Bj66oxnF-"
   },
   "outputs": [],
   "source": [
    "# Note: You can save this visualization as an html file\n",
    "file_name = 'scattertext_noun.html'\n",
    "with open(file_name, encoding='utf8', mode='w') as f:\n",
    "    f.write(html_noun)"
   ]
  },
  {
   "cell_type": "code",
   "execution_count": 54,
   "metadata": {},
   "outputs": [
    {
     "data": {
      "text/html": [
       "\n",
       "        <iframe\n",
       "            width=\"900\"\n",
       "            height=\"600\"\n",
       "            src=\"scattertext_noun.html\"\n",
       "            frameborder=\"0\"\n",
       "            allowfullscreen\n",
       "        ></iframe>\n",
       "        "
      ],
      "text/plain": [
       "<IPython.lib.display.IFrame at 0x7f97f4fd9ac0>"
      ]
     },
     "execution_count": 54,
     "metadata": {},
     "output_type": "execute_result"
    }
   ],
   "source": [
    "IFrame(src='scattertext_noun.html', width=900, height=600)"
   ]
  },
  {
   "cell_type": "markdown",
   "metadata": {
    "id": "IydSBWwr2Msk"
   },
   "source": [
    "## Compare using adjectives\n",
    "\n",
    "We have compared Dickens and Eliot on the basis of the nouns they used. It might also be infomrative to compare them on the basis of the adjectives they used.\n",
    "\n",
    "Starting with our initial datasets, `dickens_df` and `eliot_df`, make a comparison on the adjectives used by these authors using `Scattertext`."
   ]
  },
  {
   "cell_type": "code",
   "execution_count": 28,
   "metadata": {
    "id": "IffcDi0I2-9i"
   },
   "outputs": [],
   "source": [
    "# create samples\n",
    "d_samp_df = d_df.sample(5_000)\n",
    "e_samp_df = e_df.sample(5_000)"
   ]
  },
  {
   "cell_type": "code",
   "execution_count": 29,
   "metadata": {
    "id": "aEIv4RLp3DVI"
   },
   "outputs": [],
   "source": [
    "# combine DataFrames\n",
    "df = pd.concat([d_samp_df, e_samp_df])"
   ]
  },
  {
   "cell_type": "code",
   "execution_count": 30,
   "metadata": {
    "id": "Zb3v4B283HL1"
   },
   "outputs": [],
   "source": [
    "# drop all columns except 'author' and 'adjectives'\n",
    "adj_df = df[['author', 'adjectives']]"
   ]
  },
  {
   "cell_type": "code",
   "execution_count": 31,
   "metadata": {
    "id": "kvb2M_lx3ppJ"
   },
   "outputs": [],
   "source": [
    "# create a scattertext corpus\n",
    "corpus = st.CorpusFromPandas(adj_df, category_col='author', text_col='adjectives').build()"
   ]
  },
  {
   "cell_type": "code",
   "execution_count": 40,
   "metadata": {
    "id": "GkEPt-jm3tLb"
   },
   "outputs": [],
   "source": [
    "# transform corpus into html-based visualization with scattertext\n",
    "html_adj = st.produce_scattertext_explorer(corpus,\n",
    "                                       category='eliot',  # this sets the y-axis\n",
    "                                       category_name='Eliot', # label y-axis\n",
    "                                       not_category_name='Dickens',  # label x-axis\n",
    "                                       minimum_term_frequency=20,\n",
    "                                       width_in_pixels=900)"
   ]
  },
  {
   "cell_type": "code",
   "execution_count": 36,
   "metadata": {},
   "outputs": [],
   "source": [
    "file_name = 'scattertext_adj.html'\n",
    "with open(file_name, encoding='utf8', mode='w') as f:\n",
    "    f.write(html_adj)"
   ]
  },
  {
   "cell_type": "code",
   "execution_count": 55,
   "metadata": {},
   "outputs": [
    {
     "data": {
      "text/html": [
       "\n",
       "        <iframe\n",
       "            width=\"900\"\n",
       "            height=\"600\"\n",
       "            src=\"scattertext_adj.html\"\n",
       "            frameborder=\"0\"\n",
       "            allowfullscreen\n",
       "        ></iframe>\n",
       "        "
      ],
      "text/plain": [
       "<IPython.lib.display.IFrame at 0x7f98200a9160>"
      ]
     },
     "execution_count": 55,
     "metadata": {},
     "output_type": "execute_result"
    }
   ],
   "source": [
    "IFrame(src='scattertext_adj.html', width=900, height=600)"
   ]
  },
  {
   "cell_type": "code",
   "execution_count": null,
   "metadata": {},
   "outputs": [],
   "source": []
  }
 ],
 "metadata": {
  "colab": {
   "collapsed_sections": [
    "kGYJiD6ipQfC",
    "hWOtO9oZprve",
    "dgEJnyLSpwz9",
    "WB5567kgp_Tk",
    "ChUTf1Sg-_ta",
    "e-i7dGeVHuGb",
    "SAx2b77N5ea-",
    "riSc6Mz51S0i",
    "WzahuHxc2Grr",
    "NevnMsufqP4l",
    "KtdNDaW-rfsy",
    "aq9zlY28srsf",
    "thO47tcYvdyZ",
    "8OvXNkcew0JF",
    "fVCb2Vaox1BL",
    "0gGCtf2_Vva2",
    "7ftN8bCnyI8P",
    "N9Cg7qJ-ymdN",
    "4X7KOWWNq_De",
    "DU-H4lMq7uJc",
    "0i6litFW8FxR",
    "nPuB76N376rf",
    "02VeoAYz8AU4",
    "trBdZx6HZAoH",
    "1NgXhHbi8sMN",
    "O8CxxjmF8wtS",
    "6B31xDCqqswO",
    "zu9wyn_N97ry",
    "rCdVVwyutSa8",
    "t4it1Qic93eB",
    "Le0sVCRS-n7h",
    "Y1ZOpBJF78by",
    "nT1sr2ZzKykW",
    "DFzV3HvTbfkm"
   ],
   "provenance": []
  },
  "kernelspec": {
   "display_name": "Python 3",
   "language": "python",
   "name": "python3"
  },
  "language_info": {
   "codemirror_mode": {
    "name": "ipython",
    "version": 3
   },
   "file_extension": ".py",
   "mimetype": "text/x-python",
   "name": "python",
   "nbconvert_exporter": "python",
   "pygments_lexer": "ipython3",
   "version": "3.8.5"
  }
 },
 "nbformat": 4,
 "nbformat_minor": 1
}
