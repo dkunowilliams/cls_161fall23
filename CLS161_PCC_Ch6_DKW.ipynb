{
 "cells": [
  {
   "cell_type": "markdown",
   "metadata": {},
   "source": [
    "# Chapter 6 Homework"
   ]
  },
  {
   "cell_type": "markdown",
   "metadata": {},
   "source": [
    "## 6-1"
   ]
  },
  {
   "cell_type": "code",
   "execution_count": 3,
   "metadata": {},
   "outputs": [
    {
     "name": "stdout",
     "output_type": "stream",
     "text": [
      "john williams 23 boston\n"
     ]
    }
   ],
   "source": [
    "d = {'first_name': 'john', 'last_name': 'williams', 'age': 23, 'city': 'boston'}\n",
    "print(d['first_name'], d['last_name'], d['age'], d['city'])"
   ]
  },
  {
   "cell_type": "markdown",
   "metadata": {},
   "source": [
    "## 6-2"
   ]
  },
  {
   "cell_type": "code",
   "execution_count": 4,
   "metadata": {},
   "outputs": [
    {
     "name": "stdout",
     "output_type": "stream",
     "text": [
      "Aaren 0\n",
      "Aarika 1\n",
      "Abagael 2\n",
      "Abagail 3\n",
      "Abbe 4\n"
     ]
    }
   ],
   "source": [
    "names = ['Aaren','Aarika','Abagael','Abagail','Abbe']\n",
    "d = {}\n",
    "i = 0\n",
    "for n in names:\n",
    "    d[n] = i\n",
    "    i += 1\n",
    "\n",
    "for i in d:\n",
    "    print(i, d[i])"
   ]
  },
  {
   "cell_type": "markdown",
   "metadata": {},
   "source": [
    "## 6-3"
   ]
  },
  {
   "cell_type": "code",
   "execution_count": 8,
   "metadata": {},
   "outputs": [
    {
     "name": "stdout",
     "output_type": "stream",
     "text": [
      "string: dype\n",
      "float: dype\n",
      "int: dype\n",
      "long: dype\n",
      "short: dype\n"
     ]
    }
   ],
   "source": [
    "glossary = {'string':'dype', 'float':'dype', 'int':'dype', 'long':'dype', 'short':'dype', }\n",
    "\n",
    "for i in glossary:\n",
    "    print(i + ': ' + glossary[i])"
   ]
  },
  {
   "cell_type": "markdown",
   "metadata": {},
   "source": [
    "## 6-4"
   ]
  },
  {
   "cell_type": "code",
   "execution_count": 9,
   "metadata": {},
   "outputs": [
    {
     "name": "stdout",
     "output_type": "stream",
     "text": [
      "string: dype\n",
      "float: dype\n",
      "int: dype\n",
      "long: dype\n",
      "short: dype\n",
      "abstract set 1: A generic set that is used only as a template for derived classes, and that cannot be instantiated.\n",
      "abstract set 2: In object-oriented programming, a set in which no objects can be created. It is, however, used to defined subclasses, and objects are created from the subclasses.\n",
      "abstract definition: The definition of a set of (concrete) definitions, which describes characteristics common to all instances of the abstract definition.\n",
      "abstract endpoint definition: The abstract type of an endpoint, which defines common characteristics of a set of endpoints. Examples include, Web Site Endpoint, Http Client Endpoint, Http Server Endpoint.\n",
      "abstract server definition: The abstract type of an application server, which defines common characteristics of a set of logical application servers including the set ofsupported abstract endpoint definitions.\n"
     ]
    }
   ],
   "source": [
    "glossary[\"abstract set 1\"] = \"A generic set that is used only as a template for derived classes, and that cannot be instantiated.\"\n",
    "glossary[\"abstract set 2\"] = \"In object-oriented programming, a set in which no objects can be created. It is, however, used to defined subclasses, and objects are created from the subclasses.\"\n",
    "glossary[\"abstract definition\"] = 'The definition of a set of (concrete) definitions, which describes characteristics common to all instances of the abstract definition.'\n",
    "glossary['abstract endpoint definition'] = 'The abstract type of an endpoint, which defines common characteristics of a set of endpoints. Examples include, Web Site Endpoint, Http Client Endpoint, Http Server Endpoint.'\n",
    "glossary['abstract server definition'] = 'The abstract type of an application server, which defines common characteristics of a set of logical application servers including the set ofsupported abstract endpoint definitions.'\n",
    "\n",
    "for i in glossary:\n",
    "    print(i + ': ' + glossary[i])"
   ]
  },
  {
   "cell_type": "markdown",
   "metadata": {},
   "source": [
    "## 6-5"
   ]
  },
  {
   "cell_type": "code",
   "execution_count": 13,
   "metadata": {},
   "outputs": [
    {
     "name": "stdout",
     "output_type": "stream",
     "text": [
      "The nile runs through Egypt\n",
      "The Rhine runs through Germany\n",
      "The Sacramento runs through USA\n",
      "\n",
      "names:\n",
      "nile\n",
      "Rhine\n",
      "Sacramento\n",
      "\n",
      "countries:\n",
      "Egypt\n",
      "Germany\n",
      "USA\n"
     ]
    }
   ],
   "source": [
    "rivers = {'nile': 'Egypt', 'Rhine': 'Germany', 'Sacramento': 'USA'}\n",
    "\n",
    "for i in rivers:\n",
    "    print('The ' + i + ' runs through ' + rivers[i])\n",
    "    \n",
    "print('\\nnames:')\n",
    "for i in rivers:\n",
    "    print(i)\n",
    "print('\\ncountries:')\n",
    "for i in rivers:\n",
    "    print(rivers[i])"
   ]
  },
  {
   "cell_type": "markdown",
   "metadata": {},
   "source": [
    "## 6-7"
   ]
  },
  {
   "cell_type": "code",
   "execution_count": 18,
   "metadata": {},
   "outputs": [
    {
     "name": "stdout",
     "output_type": "stream",
     "text": [
      "first_name john\n",
      "last_name williams\n",
      "age 23\n",
      "city boston\n",
      "\n",
      "\n",
      "first_name caden\n",
      "last_name johnson\n",
      "age 93\n",
      "city boston\n",
      "\n",
      "\n",
      "first_name jake\n",
      "last_name doe\n",
      "age 43\n",
      "city boston\n",
      "\n",
      "\n"
     ]
    }
   ],
   "source": [
    "d1 = {'first_name': 'john', 'last_name': 'williams', 'age': 23, 'city': 'boston'}\n",
    "d2 = {'first_name': 'caden', 'last_name': 'johnson', 'age': 93, 'city': 'boston'}\n",
    "d3 = {'first_name': 'jake', 'last_name': 'doe', 'age': 43, 'city': 'boston'}\n",
    "people = [d1, d2, d3]\n",
    "\n",
    "for p in people:\n",
    "    for i in p:\n",
    "        print(i, p[i])\n",
    "    print('\\n')"
   ]
  },
  {
   "cell_type": "markdown",
   "metadata": {},
   "source": [
    "## 6-8"
   ]
  },
  {
   "cell_type": "code",
   "execution_count": 19,
   "metadata": {},
   "outputs": [
    {
     "name": "stdout",
     "output_type": "stream",
     "text": [
      "kind dog\n",
      "owner jeff\n",
      "\n",
      "\n",
      "kind cat\n",
      "owner jacob\n",
      "\n",
      "\n",
      "kind snake\n",
      "owner jeffries\n",
      "\n",
      "\n"
     ]
    }
   ],
   "source": [
    "Alis = {'kind':'dog', 'owner':'jeff'}\n",
    "Alisa = {'kind':'cat', 'owner':'jacob'}\n",
    "Alisha = {'kind':'snake', 'owner':'jeffries'}\n",
    "pets = [Alis, Alisa, Alisha]\n",
    "\n",
    "for p in pets:\n",
    "    for i in p:\n",
    "        print(i, p[i])\n",
    "    print('\\n')"
   ]
  },
  {
   "cell_type": "markdown",
   "metadata": {},
   "source": [
    "## 6-9"
   ]
  },
  {
   "cell_type": "code",
   "execution_count": 28,
   "metadata": {},
   "outputs": [
    {
     "name": "stdout",
     "output_type": "stream",
     "text": [
      "Name: Alfi\n",
      "Cowes\n",
      "Mannheim\n",
      "\n",
      "\n",
      "Name: Alfie\n",
      "Paris\n",
      "London\n",
      "Rome\n",
      "\n",
      "\n",
      "Name: Alfreda\n",
      "Boston\n",
      "Paris\n",
      "\n",
      "\n"
     ]
    }
   ],
   "source": [
    "favorite_places = {\n",
    "    'Alfi': ['Cowes', 'Mannheim'],\n",
    "    'Alfie':['Paris', 'London', 'Rome'],\n",
    "    'Alfreda':['Boston', 'Paris']\n",
    "}\n",
    "\n",
    "for i in favorite_places:\n",
    "    print('Name:', i)\n",
    "    for j in favorite_places[i]:\n",
    "        print(j)\n",
    "    print('\\n')"
   ]
  },
  {
   "cell_type": "markdown",
   "metadata": {},
   "source": [
    "## 6-11"
   ]
  },
  {
   "cell_type": "code",
   "execution_count": 34,
   "metadata": {},
   "outputs": [
    {
     "name": "stdout",
     "output_type": "stream",
     "text": [
      "Paris\n",
      "country France\n",
      "population 2161000\n",
      "fact Paris is the capital of France\n",
      "\n",
      "\n",
      "Nice\n",
      "country France\n",
      "population 342522\n",
      "fact Nice is by the ocean\n",
      "\n",
      "\n",
      "Reims\n",
      "country France\n",
      "population 184076\n",
      "fact Reims is the most populous city in the French department of Marne\n",
      "\n",
      "\n"
     ]
    }
   ],
   "source": [
    "cities = {\n",
    "    'Paris':{'country':'France', 'population':'2161000', 'fact':'Paris is the capital of France'},\n",
    "    'Nice':{'country':'France', 'population':'342522', 'fact':'Nice is by the ocean'},\n",
    "    'Reims':{'country':'France', 'population':'184076', 'fact':'Reims is the most populous city in the French department of Marne'}\n",
    "}\n",
    "\n",
    "for i in cities:\n",
    "    print(i)\n",
    "    for j in cities[i]:\n",
    "        print(j, cities[i][j])\n",
    "    print('\\n')"
   ]
  },
  {
   "cell_type": "code",
   "execution_count": null,
   "metadata": {},
   "outputs": [],
   "source": []
  }
 ],
 "metadata": {
  "kernelspec": {
   "display_name": "Python 3",
   "language": "python",
   "name": "python3"
  },
  "language_info": {
   "codemirror_mode": {
    "name": "ipython",
    "version": 3
   },
   "file_extension": ".py",
   "mimetype": "text/x-python",
   "name": "python",
   "nbconvert_exporter": "python",
   "pygments_lexer": "ipython3",
   "version": "3.8.5"
  }
 },
 "nbformat": 4,
 "nbformat_minor": 4
}
