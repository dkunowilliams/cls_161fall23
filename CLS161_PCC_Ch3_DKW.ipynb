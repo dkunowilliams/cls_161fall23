{
 "cells": [
  {
   "cell_type": "markdown",
   "metadata": {},
   "source": [
    "# Chapter 3 Homework"
   ]
  },
  {
   "cell_type": "markdown",
   "metadata": {},
   "source": [
    "## 3-1"
   ]
  },
  {
   "cell_type": "code",
   "execution_count": 1,
   "metadata": {},
   "outputs": [
    {
     "name": "stdout",
     "output_type": "stream",
     "text": [
      "aaron\n",
      "adam\n",
      "anna\n"
     ]
    }
   ],
   "source": [
    "names = ['aaron', 'adam', 'anna']\n",
    "for name in names:\n",
    "    print(name)"
   ]
  },
  {
   "cell_type": "markdown",
   "metadata": {},
   "source": [
    "## 3-2"
   ]
  },
  {
   "cell_type": "code",
   "execution_count": 4,
   "metadata": {},
   "outputs": [
    {
     "name": "stdout",
     "output_type": "stream",
     "text": [
      "Hi Aaron, we hope you had a nice stay\n",
      "Hi Adam, we hope you had a nice stay\n",
      "Hi Anna, we hope you had a nice stay\n"
     ]
    }
   ],
   "source": [
    "for name in names:\n",
    "    print(\"Hi \" + name.title() + \", we hope you had a nice stay\")"
   ]
  },
  {
   "cell_type": "markdown",
   "metadata": {},
   "source": [
    "## 3-3"
   ]
  },
  {
   "cell_type": "code",
   "execution_count": 7,
   "metadata": {},
   "outputs": [
    {
     "name": "stdout",
     "output_type": "stream",
     "text": [
      "I would like to own a truck.\n",
      "I would like to own a train.\n",
      "I would like to own a bus.\n",
      "I would like to own a car.\n",
      "I would like to own a motorcycle.\n",
      "I would like to own a plane.\n"
     ]
    }
   ],
   "source": [
    "vehicles = ['truck', 'train', 'bus', 'car', 'motorcycle', 'plane']\n",
    "for vehicle in vehicles:\n",
    "    print('I would like to own a ' + vehicle + '.')"
   ]
  },
  {
   "cell_type": "markdown",
   "metadata": {},
   "source": [
    "## 3-4"
   ]
  },
  {
   "cell_type": "code",
   "execution_count": 31,
   "metadata": {},
   "outputs": [
    {
     "name": "stdout",
     "output_type": "stream",
     "text": [
      "Professor, Sharpless\n",
      "You are invited to a dinner at Olive Garden.\n",
      "\n",
      "Professor, Baran\n",
      "You are invited to a dinner at Olive Garden.\n",
      "\n",
      "Professor, Bertozzi\n",
      "You are invited to a dinner at Olive Garden.\n",
      "\n"
     ]
    }
   ],
   "source": [
    "guests = ['Sharpless', 'Baran', 'Bertozzi']\n",
    "def invite(guest_list): \n",
    "    for guest in guests:\n",
    "        print('Professor, ' + guest + '\\nYou are invited to a dinner at Olive Garden.\\n')\n",
    "invite(guests)"
   ]
  },
  {
   "cell_type": "markdown",
   "metadata": {},
   "source": [
    "## 3-5"
   ]
  },
  {
   "cell_type": "code",
   "execution_count": 32,
   "metadata": {},
   "outputs": [
    {
     "name": "stdout",
     "output_type": "stream",
     "text": [
      "Professor, Sharpless\n",
      "You are invited to a dinner at Olive Garden.\n",
      "\n",
      "Professor, Baran\n",
      "You are invited to a dinner at Olive Garden.\n",
      "\n",
      "Professor, Bertozzi\n",
      "You are invited to a dinner at Olive Garden.\n",
      "\n",
      "\n",
      "\n",
      "Professor Sharpless cannot attend\n",
      "Professor, Baran\n",
      "You are invited to a dinner at Olive Garden.\n",
      "\n",
      "Professor, Bertozzi\n",
      "You are invited to a dinner at Olive Garden.\n",
      "\n"
     ]
    }
   ],
   "source": [
    "guests = ['Sharpless', 'Baran', 'Bertozzi']\n",
    "invite(guests)\n",
    "    \n",
    "print('\\n\\nProfessor ' + guests[0] + ' cannot attend')\n",
    "guests.remove(guests[0])\n",
    "invite(guests)"
   ]
  },
  {
   "cell_type": "markdown",
   "metadata": {},
   "source": [
    "## 3-6"
   ]
  },
  {
   "cell_type": "code",
   "execution_count": 33,
   "metadata": {},
   "outputs": [
    {
     "name": "stdout",
     "output_type": "stream",
     "text": [
      "Professor, Sharpless\n",
      "You are invited to a dinner at Olive Garden.\n",
      "\n",
      "Professor, Baran\n",
      "You are invited to a dinner at Olive Garden.\n",
      "\n",
      "Professor, Bertozzi\n",
      "You are invited to a dinner at Olive Garden.\n",
      "\n",
      "We found a larger table\n",
      "Professor, Doudna\n",
      "You are invited to a dinner at Olive Garden.\n",
      "\n",
      "Professor, Sharpless\n",
      "You are invited to a dinner at Olive Garden.\n",
      "\n",
      "Professor, MacMillan\n",
      "You are invited to a dinner at Olive Garden.\n",
      "\n",
      "Professor, Baran\n",
      "You are invited to a dinner at Olive Garden.\n",
      "\n",
      "Professor, Bertozzi\n",
      "You are invited to a dinner at Olive Garden.\n",
      "\n",
      "Professor, Yoshiro\n",
      "You are invited to a dinner at Olive Garden.\n",
      "\n"
     ]
    }
   ],
   "source": [
    "guests = ['Sharpless', 'Baran', 'Bertozzi']\n",
    "invite(guests)\n",
    "print('We found a larger table')\n",
    "guests.insert(0, 'Doudna')\n",
    "guests.insert(len(guests)-2, 'MacMillan')\n",
    "guests.append('Yoshiro')\n",
    "invite(guests)"
   ]
  },
  {
   "cell_type": "markdown",
   "metadata": {},
   "source": [
    "## 3-7"
   ]
  },
  {
   "cell_type": "code",
   "execution_count": 40,
   "metadata": {},
   "outputs": [
    {
     "name": "stdout",
     "output_type": "stream",
     "text": [
      "Professor, Sharpless\n",
      "You are invited to a dinner at Olive Garden.\n",
      "\n",
      "Professor, Baran\n",
      "You are invited to a dinner at Olive Garden.\n",
      "\n",
      "Professor, Bertozzi\n",
      "You are invited to a dinner at Olive Garden.\n",
      "\n",
      "We found a larger table\n",
      "Professor, Doudna\n",
      "You are invited to a dinner at Olive Garden.\n",
      "\n",
      "Professor, Sharpless\n",
      "You are invited to a dinner at Olive Garden.\n",
      "\n",
      "Professor, MacMillan\n",
      "You are invited to a dinner at Olive Garden.\n",
      "\n",
      "Professor, Baran\n",
      "You are invited to a dinner at Olive Garden.\n",
      "\n",
      "Professor, Bertozzi\n",
      "You are invited to a dinner at Olive Garden.\n",
      "\n",
      "Professor, Yoshiro\n",
      "You are invited to a dinner at Olive Garden.\n",
      "\n",
      "Only two can attend dinner\n",
      "Yoshiro, we're sorry but you have been uninvited\n",
      "Bertozzi, we're sorry but you have been uninvited\n",
      "Baran, we're sorry but you have been uninvited\n",
      "MacMillan, we're sorry but you have been uninvited\n",
      "[]\n"
     ]
    }
   ],
   "source": [
    "guests = ['Sharpless', 'Baran', 'Bertozzi']\n",
    "invite(guests)\n",
    "\n",
    "print('We found a larger table')\n",
    "guests.insert(0, 'Doudna')\n",
    "guests.insert(len(guests)-2, 'MacMillan')\n",
    "guests.append('Yoshiro')\n",
    "invite(guests)\n",
    "\n",
    "print('Only two can attend dinner')\n",
    "while len(guests) > 2:\n",
    "    print(guests[len(guests)-1] + ', we\\'re sorry but you have been uninvited')\n",
    "    guests.pop()\n",
    "\n",
    "del guests[1]\n",
    "del guests[0]\n",
    "print(guests)"
   ]
  },
  {
   "cell_type": "markdown",
   "metadata": {},
   "source": [
    "## 3-8"
   ]
  },
  {
   "cell_type": "code",
   "execution_count": 64,
   "metadata": {},
   "outputs": [
    {
     "name": "stdout",
     "output_type": "stream",
     "text": [
      "['macedonia', 'greece', 'bulgaria', 'albania', 'bosnia']\n",
      "['albania', 'bosnia', 'bulgaria', 'greece', 'macedonia']\n",
      "['macedonia', 'greece', 'bulgaria', 'albania', 'bosnia']\n",
      "['macedonia', 'greece', 'bulgaria', 'bosnia', 'albania']\n",
      "['macedonia', 'greece', 'bulgaria', 'albania', 'bosnia']\n",
      "['bosnia', 'albania', 'bulgaria', 'greece', 'macedonia']\n",
      "['macedonia', 'greece', 'bulgaria', 'albania', 'bosnia']\n",
      "['albania', 'bosnia', 'bulgaria', 'greece', 'macedonia']\n",
      "['macedonia', 'greece', 'bulgaria', 'bosnia', 'albania']\n"
     ]
    }
   ],
   "source": [
    "places = ['macedonia', 'greece', 'bulgaria', 'albania', 'bosnia']\n",
    "print(places)\n",
    "\n",
    "print(sorted(places))\n",
    "print(places)\n",
    "print(sorted(places, reverse=True))\n",
    "print(places)\n",
    "\n",
    "places.reverse()\n",
    "print(places)\n",
    "places.reverse()\n",
    "print(places)\n",
    "\n",
    "places.sort()\n",
    "print(places)\n",
    "places.sort(reverse=True)\n",
    "print(places)"
   ]
  },
  {
   "cell_type": "code",
   "execution_count": null,
   "metadata": {},
   "outputs": [],
   "source": []
  }
 ],
 "metadata": {
  "kernelspec": {
   "display_name": "Python 3",
   "language": "python",
   "name": "python3"
  },
  "language_info": {
   "codemirror_mode": {
    "name": "ipython",
    "version": 3
   },
   "file_extension": ".py",
   "mimetype": "text/x-python",
   "name": "python",
   "nbconvert_exporter": "python",
   "pygments_lexer": "ipython3",
   "version": "3.8.5"
  }
 },
 "nbformat": 4,
 "nbformat_minor": 4
}
