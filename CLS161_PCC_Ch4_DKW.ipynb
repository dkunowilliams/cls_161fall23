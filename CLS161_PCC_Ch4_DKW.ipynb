{
 "cells": [
  {
   "cell_type": "markdown",
   "metadata": {},
   "source": [
    "# Chapter 4 Homework"
   ]
  },
  {
   "cell_type": "markdown",
   "metadata": {},
   "source": [
    "## 4-1"
   ]
  },
  {
   "cell_type": "code",
   "execution_count": 3,
   "metadata": {},
   "outputs": [
    {
     "name": "stdout",
     "output_type": "stream",
     "text": [
      "I like cheese pizza\n",
      "I like potato pizza\n",
      "I like pepperoni pizza\n",
      "I really like pizza.\n",
      "It is very good.\n",
      "Pizza is so good.\n",
      "I really love pizza!\n"
     ]
    }
   ],
   "source": [
    "pizzas = ['cheese', 'potato', 'pepperoni']\n",
    "for p in pizzas:\n",
    "    print('I like ' + p + ' pizza')\n",
    "print('I really like pizza.\\nIt is very good.\\nPizza is so good.\\nI really love pizza!')"
   ]
  },
  {
   "cell_type": "markdown",
   "metadata": {},
   "source": [
    "## 4-2"
   ]
  },
  {
   "cell_type": "code",
   "execution_count": 6,
   "metadata": {},
   "outputs": [
    {
     "name": "stdout",
     "output_type": "stream",
     "text": [
      "A dog has four legs.\n",
      "A cat has four legs.\n",
      "A horse has four legs.\n"
     ]
    }
   ],
   "source": [
    "animals = ['dog', 'cat', 'horse']\n",
    "for a in animals:\n",
    "    print('A ' + a + ' has four legs.')"
   ]
  },
  {
   "cell_type": "markdown",
   "metadata": {},
   "source": [
    "## 4-3"
   ]
  },
  {
   "cell_type": "code",
   "execution_count": 15,
   "metadata": {},
   "outputs": [
    {
     "name": "stdout",
     "output_type": "stream",
     "text": [
      "1\n",
      "2\n",
      "3\n",
      "4\n",
      "5\n",
      "6\n",
      "7\n",
      "8\n",
      "9\n",
      "10\n",
      "11\n",
      "12\n",
      "13\n",
      "14\n",
      "15\n",
      "16\n",
      "17\n",
      "18\n",
      "19\n",
      "20\n"
     ]
    }
   ],
   "source": [
    "for i in range(20):\n",
    "    print(i+1)"
   ]
  },
  {
   "cell_type": "markdown",
   "metadata": {},
   "source": [
    "## 4-6"
   ]
  },
  {
   "cell_type": "code",
   "execution_count": 22,
   "metadata": {},
   "outputs": [
    {
     "name": "stdout",
     "output_type": "stream",
     "text": [
      "1\n",
      "3\n",
      "5\n",
      "7\n",
      "9\n",
      "11\n",
      "13\n",
      "15\n",
      "17\n",
      "19\n"
     ]
    }
   ],
   "source": [
    "for i in list(range(1, 21, 2)):\n",
    "    print(i)"
   ]
  },
  {
   "cell_type": "markdown",
   "metadata": {},
   "source": [
    "## 4-10"
   ]
  },
  {
   "cell_type": "code",
   "execution_count": 31,
   "metadata": {},
   "outputs": [
    {
     "name": "stdout",
     "output_type": "stream",
     "text": [
      "[1, 3, 5]\n",
      "[9, 11, 13]\n",
      "[15, 17, 19]\n"
     ]
    }
   ],
   "source": [
    "odds = list(range(1, 21, 2))\n",
    "print(odds[:3])\n",
    "print(odds[4:7])\n",
    "print(odds[len(odds)-3:len(odds)])"
   ]
  },
  {
   "cell_type": "markdown",
   "metadata": {},
   "source": [
    "## 4-11"
   ]
  },
  {
   "cell_type": "code",
   "execution_count": 39,
   "metadata": {},
   "outputs": [
    {
     "name": "stdout",
     "output_type": "stream",
     "text": [
      "My favorite pizzas are: \n",
      "cheese\n",
      "potato\n",
      "pepperoni\n",
      "\n",
      "My friend’s favorite pizzas are: \n",
      "cheese\n",
      "potato\n",
      "pepperoni\n",
      "salami\n"
     ]
    }
   ],
   "source": [
    "pizzas = ['cheese', 'potato', 'pepperoni']\n",
    "friend_pizza = pizzas.copy()\n",
    "friend_pizza.append('salami')\n",
    "print('My favorite pizzas are: ')\n",
    "for p in pizzas:\n",
    "    print(p)\n",
    "print('\\nMy friend’s favorite pizzas are: ')\n",
    "for f in friend_pizza:\n",
    "    print(f)"
   ]
  },
  {
   "cell_type": "code",
   "execution_count": null,
   "metadata": {},
   "outputs": [],
   "source": []
  }
 ],
 "metadata": {
  "kernelspec": {
   "display_name": "Python 3",
   "language": "python",
   "name": "python3"
  },
  "language_info": {
   "codemirror_mode": {
    "name": "ipython",
    "version": 3
   },
   "file_extension": ".py",
   "mimetype": "text/x-python",
   "name": "python",
   "nbconvert_exporter": "python",
   "pygments_lexer": "ipython3",
   "version": "3.8.5"
  }
 },
 "nbformat": 4,
 "nbformat_minor": 4
}
