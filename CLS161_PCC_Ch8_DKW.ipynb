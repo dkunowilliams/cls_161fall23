{
 "cells": [
  {
   "cell_type": "markdown",
   "metadata": {},
   "source": [
    "# Chapter 8 Homework"
   ]
  },
  {
   "cell_type": "markdown",
   "metadata": {},
   "source": [
    "## 8-1"
   ]
  },
  {
   "cell_type": "code",
   "execution_count": 1,
   "metadata": {},
   "outputs": [
    {
     "name": "stdout",
     "output_type": "stream",
     "text": [
      "functions can be used to avoid repeating code\n"
     ]
    }
   ],
   "source": [
    "def display_message():\n",
    "    print('functions can be used to avoid repeating code')\n",
    "    \n",
    "display_message()"
   ]
  },
  {
   "cell_type": "markdown",
   "metadata": {},
   "source": [
    "## 8-2"
   ]
  },
  {
   "cell_type": "code",
   "execution_count": 2,
   "metadata": {},
   "outputs": [
    {
     "name": "stdout",
     "output_type": "stream",
     "text": [
      "One of my favorite books is Alice in Wonderland.\n"
     ]
    }
   ],
   "source": [
    "def favorite_book(title):\n",
    "    print('One of my favorite books is ' + title + '.')\n",
    "    \n",
    "favorite_book('Alice in Wonderland')"
   ]
  },
  {
   "cell_type": "markdown",
   "metadata": {},
   "source": [
    "## 8-3"
   ]
  },
  {
   "cell_type": "code",
   "execution_count": 5,
   "metadata": {},
   "outputs": [
    {
     "name": "stdout",
     "output_type": "stream",
     "text": [
      "Your shirt has size small and reads 'test'\n",
      "Your shirt has size small and reads 'test'\n"
     ]
    }
   ],
   "source": [
    "def make_shirt(size, message):\n",
    "    print('Your shirt has size ' + size + ' and reads \\'' + message + '\\'')\n",
    "    \n",
    "make_shirt('small', 'test')\n",
    "make_shirt(message='test', size='small')"
   ]
  },
  {
   "cell_type": "markdown",
   "metadata": {},
   "source": [
    "## 8-5"
   ]
  },
  {
   "cell_type": "code",
   "execution_count": 7,
   "metadata": {},
   "outputs": [
    {
     "name": "stdout",
     "output_type": "stream",
     "text": [
      "Batumi is in Georgia\n",
      "London is in England\n",
      "Pristina is in Kosovo\n"
     ]
    }
   ],
   "source": [
    "def describe_city(city='Batumi', country='Georgia'):\n",
    "    print(city + ' is in ' + country)\n",
    "    \n",
    "describe_city()\n",
    "describe_city('London', 'England')\n",
    "describe_city('Pristina', 'Kosovo')"
   ]
  },
  {
   "cell_type": "markdown",
   "metadata": {},
   "source": [
    "## 8-6"
   ]
  },
  {
   "cell_type": "code",
   "execution_count": 13,
   "metadata": {},
   "outputs": [
    {
     "name": "stdout",
     "output_type": "stream",
     "text": [
      "\"Batumi, Georgia\"\n",
      "\"London, England\"\n",
      "\"Pristina, Kosovo\"\n"
     ]
    }
   ],
   "source": [
    "def city_country(city, country):\n",
    "    return '\\\"' + city + ', ' + country + '\\\"'\n",
    "\n",
    "print(city_country('Batumi', 'Georgia'))\n",
    "print(city_country('London', 'England'))\n",
    "print(city_country('Pristina', 'Kosovo'))"
   ]
  },
  {
   "cell_type": "markdown",
   "metadata": {},
   "source": [
    "## 8-7"
   ]
  },
  {
   "cell_type": "code",
   "execution_count": 20,
   "metadata": {},
   "outputs": [
    {
     "name": "stdout",
     "output_type": "stream",
     "text": [
      "{'Time Out of Mind': ('Bob Dylan', 1)}\n",
      "{'Desire': ('Bob Dylan', 2)}\n",
      "{'Nashville Skyline': ('Bob Dylan', 3)}\n"
     ]
    }
   ],
   "source": [
    "def make_album(artist, title, tracks=1):\n",
    "    return {title:(artist, tracks)}\n",
    "\n",
    "print(make_album('Bob Dylan', 'Time Out of Mind', 1))\n",
    "print(make_album('Bob Dylan', 'Desire', 2))\n",
    "print(make_album('Bob Dylan', 'Nashville Skyline', 3))"
   ]
  },
  {
   "cell_type": "code",
   "execution_count": null,
   "metadata": {},
   "outputs": [],
   "source": []
  }
 ],
 "metadata": {
  "kernelspec": {
   "display_name": "Python 3",
   "language": "python",
   "name": "python3"
  },
  "language_info": {
   "codemirror_mode": {
    "name": "ipython",
    "version": 3
   },
   "file_extension": ".py",
   "mimetype": "text/x-python",
   "name": "python",
   "nbconvert_exporter": "python",
   "pygments_lexer": "ipython3",
   "version": "3.8.5"
  }
 },
 "nbformat": 4,
 "nbformat_minor": 4
}
